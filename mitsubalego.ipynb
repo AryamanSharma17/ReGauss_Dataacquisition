{
 "cells": [
  {
   "cell_type": "code",
   "execution_count": null,
   "metadata": {},
   "outputs": [],
   "source": [
    "import drjit as dr\n",
    "import mitsuba as mi\n",
    "import matplotlib.pyplot as plt\n",
    "import xml.etree.ElementTree as ET\n",
    "import numpy as np\n",
    "import os\n",
    "os.environ[\"OPENCV_IO_ENABLE_OPENEXR\"]=\"1\"\n",
    "import cv2"
   ]
  },
  {
   "cell_type": "code",
   "execution_count": null,
   "metadata": {},
   "outputs": [],
   "source": [
    "mi.set_variant('cuda_ad_rgb')\n",
    "from mitsuba import ScalarTransform4f as T\n"
   ]
  },
  {
   "cell_type": "code",
   "execution_count": null,
   "metadata": {},
   "outputs": [],
   "source": [
    "# scene_both = mi.load_file(\"Scene_Data/cbox_lego_textureless_both.xml\")\n",
    "# view_both = mi.render(scene_both, spp=128)\n",
    "# mi.Bitmap(view_both).write('both.exr')\n",
    "# both = cv2.imread('both.exr', cv2.IMREAD_ANYCOLOR | cv2.IMREAD_ANYDEPTH)\n",
    "\n",
    "# plt.axis(\"off\")\n",
    "# plt.imshow(cv2.cvtColor(both** (1.0/2.2), cv2.COLOR_BGR2RGB))\n"
   ]
  },
  {
   "cell_type": "code",
   "execution_count": null,
   "metadata": {},
   "outputs": [],
   "source": [
    "# scene_left = mi.load_file(\"Scene_Data/cbox_left.xml\")\n",
    "# view_left = mi.render(scene_left, spp=1024)\n",
    "# mi.Bitmap(view_left).write('left.exr')\n",
    "# left = cv2.imread('left.exr', cv2.IMREAD_ANYCOLOR | cv2.IMREAD_ANYDEPTH)\n",
    "\n",
    "# plt.axis(\"off\")\n",
    "# plt.imshow(cv2.cvtColor(left** (1.0/2.2), cv2.COLOR_BGR2RGB))"
   ]
  },
  {
   "cell_type": "code",
   "execution_count": null,
   "metadata": {},
   "outputs": [],
   "source": [
    "# scene_right = mi.load_file(\"Scene_Data/cbox_right.xml\")\n",
    "# view_right = mi.render(scene_right, spp=1024)\n",
    "# mi.Bitmap(view_right).write('right.exr')\n",
    "# right = cv2.imread('right.exr', cv2.IMREAD_ANYCOLOR | cv2.IMREAD_ANYDEPTH)\n",
    "\n",
    "# plt.axis(\"off\")\n",
    "# plt.imshow(cv2.cvtColor(right** (1.0/2.2), cv2.COLOR_BGR2RGB))\n"
   ]
  },
  {
   "cell_type": "code",
   "execution_count": null,
   "metadata": {},
   "outputs": [],
   "source": [
    "# fig, axs = plt.subplots(1, 3, figsize=(18, 6))\n",
    "\n",
    "# axs[0].imshow(cv2.cvtColor(both**(1.0/2.2), cv2.COLOR_BGR2RGB))\n",
    "# axs[0].set_title(\"both lights are on\")\n",
    "\n",
    "# axs[1].imshow(cv2.cvtColor(left**(1.0/2.2), cv2.COLOR_BGR2RGB))\n",
    "# axs[1].set_title(\"left light is on\")\n",
    "\n",
    "# axs[2].imshow(cv2.cvtColor(right**(1.0/2.2), cv2.COLOR_BGR2RGB))\n",
    "# axs[2].set_title(\"right light is on\")\n",
    "\n",
    "# plt.show()\n"
   ]
  },
  {
   "cell_type": "code",
   "execution_count": null,
   "metadata": {},
   "outputs": [],
   "source": [
    "def load_sensor(r, theta, phi, pts):\n",
    "    # Apply two rotations to convert from spherical coordinates to world 3D coordinates.\n",
    "    origin = pts + T.rotate([0, 0, 1], phi).rotate([0, 1, 0], theta) @ mi.ScalarPoint3f([0, 0, r])\n",
    "    # target = pt+ T.rotate([0, 0, 1], phi).rotate([0, 1, 0], theta) @ mi.ScalarPoint3f([0, 0, 0])\n",
    "\n",
    "    return mi.load_dict({\n",
    "        'type': 'perspective',\n",
    "        'fov': 39.37,\n",
    "        'to_world': T.look_at(\n",
    "            origin=origin,\n",
    "            target=pts,\n",
    "            up=[0, 1, 0]\n",
    "        ),\n",
    "        'sampler': {\n",
    "            'type': 'independent',\n",
    "            'sample_count': 16\n",
    "        },\n",
    "        'film': {\n",
    "            'type': 'hdrfilm',\n",
    "            'width': 1024,\n",
    "            'height': 1024,\n",
    "            'rfilter': {\n",
    "                'type': 'tent',\n",
    "            },\n",
    "            'pixel_format': 'rgb',\n",
    "        },\n",
    "    })"
   ]
  },
  {
   "cell_type": "code",
   "execution_count": null,
   "metadata": {},
   "outputs": [],
   "source": [
    "radius = 5\n",
    "phis = [22.5*(i+1) for i in range(16)]\n",
    "thetas = [22.5*(j+1) for j in range(16)]\n",
    "# thetas = [90]\n",
    "pts = [[0,-9.5,0]]\n",
    "\n",
    "sensors = []\n",
    "for pt in pts:\n",
    "    for phi in phis:\n",
    "        for theta in thetas:\n",
    "            sensors.append(load_sensor(radius,theta,phi, pt))\n",
    "sensor_count = len(sensors)"
   ]
  },
  {
   "cell_type": "code",
   "execution_count": null,
   "metadata": {},
   "outputs": [],
   "source": [
    "# lookat_ys = [-10]\n",
    "# ys=[-10, -5]\n",
    "# xs=[-10, -5, -3, 0, 3, 5, 10]\n",
    "# zs=[-10, -5, -3, 0, 3, 5, 10]\n",
    "# sensors = []\n",
    "# for lookat_y in lookat_ys:\n",
    "#     for y in ys:\n",
    "#         for z in zs:\n",
    "#             for x in xs:\n",
    "#                 sensors.append(load_sensor(x,y,z, lookat_y))\n",
    "# sensor_count = len(sensors)"
   ]
  },
  {
   "cell_type": "code",
   "execution_count": null,
   "metadata": {},
   "outputs": [],
   "source": [
    "sensor_count"
   ]
  },
  {
   "cell_type": "code",
   "execution_count": null,
   "metadata": {},
   "outputs": [],
   "source": [
    "current_dir = os.getcwd()"
   ]
  },
  {
   "cell_type": "code",
   "execution_count": null,
   "metadata": {},
   "outputs": [],
   "source": [
    "current_dir"
   ]
  },
  {
   "cell_type": "markdown",
   "metadata": {},
   "source": [
    "both image\n"
   ]
  },
  {
   "cell_type": "code",
   "execution_count": null,
   "metadata": {},
   "outputs": [],
   "source": [
    "scene_both = mi.load_file(\"Scene_Data/cbox_lego_textureless_both.xml\")\n",
    "images_both = [mi.render(scene_both, spp=1024, sensor=sensor) for sensor in sensors]\n",
    "\n"
   ]
  },
  {
   "cell_type": "code",
   "execution_count": null,
   "metadata": {},
   "outputs": [],
   "source": [
    "# num_images = len(images_both)\n",
    "# batch_size = 64\n",
    "# num_batches = num_images // batch_size\n",
    "\n",
    "# for batch in range(num_batches):\n",
    "#     start_index = batch * batch_size\n",
    "#     end_index = start_index + batch_size\n",
    "\n",
    "#     fig = plt.figure(figsize=(16, 18))\n",
    "#     fig.subplots_adjust(wspace=0, hspace=0)\n",
    "\n",
    "#     for i, image_index in enumerate(range(start_index, end_index)):\n",
    "#         ax = fig.add_subplot(8, 8, i + 1)\n",
    "#         ax.imshow(images_both[image_index] ** (1.0 / 2.2))\n",
    "#         plt.axis(\"off\")\n",
    "\n",
    "#     plt.show()\n"
   ]
  },
  {
   "cell_type": "code",
   "execution_count": null,
   "metadata": {},
   "outputs": [],
   "source": [
    "# fig = plt.figure(figsize=(8,8* int(len(sensors) / 4)))\n",
    "# fig.subplots_adjust(wspace=0, hspace=0)\n",
    "# h = 1\n",
    "# for row in range(4):\n",
    "#     for col in range(2):\n",
    "#         index = col * 4 + row+1\n",
    "#         ax = fig.add_subplot(4,2, h)\n",
    "#         ax.imshow(images_both[index - 1] ** (1.0 / 2.2))\n",
    "#         plt.axis(\"off\")\n",
    "#         h += 1\n",
    "\n",
    "# plt.show()"
   ]
  },
  {
   "cell_type": "code",
   "execution_count": null,
   "metadata": {},
   "outputs": [],
   "source": [
    "# folder_name = current_dir+\"/Data/both/files_EXR\"\n",
    "# if not os.path.exists(folder_name):\n",
    "#     os.makedirs(folder_name)\n",
    "# for i, sensor in enumerate(sensors):\n",
    "#     os.chdir(folder_name)\n",
    "#     phi_value = phis[i // len(thetas)]\n",
    "#     theta_value = thetas[i % len(thetas)]\n",
    "#     file_name_exr = f\"{phi_value}_{theta_value}.exr\"\n",
    "#     file_path_exr = os.path.join(folder_name, file_name_exr)\n",
    "#     mi.Bitmap(images_both[i]).write(file_name_exr)\n",
    "#     # mi.util.write_bitmap(file_path_exr, images_both[i])\n",
    "#     # print(i,file_name_exr, file_path_exr)\n",
    "# os.chdir(current_dir)    \n",
    "\n"
   ]
  },
  {
   "cell_type": "code",
   "execution_count": null,
   "metadata": {},
   "outputs": [],
   "source": [
    "folder_name = current_dir+\"/Data/Lego/rad5/files_PNG\"\n",
    "if not os.path.exists(folder_name):\n",
    "    os.makedirs(folder_name)\n",
    "for i, sensor in enumerate(sensors):\n",
    "    os.chdir(folder_name)\n",
    "    phi_value = phis[i % len(phis)]\n",
    "    theta_value = thetas[i // len(phis)]\n",
    "    file_name_png = f\"{phi_value}_{theta_value}_5.png\"\n",
    "    file_path_png = os.path.join(folder_name, file_name_png)\n",
    "    mi.util.write_bitmap(file_path_png, images_both[i])\n",
    "    os.chdir(current_dir)\n",
    "os.chdir(current_dir)    \n"
   ]
  },
  {
   "cell_type": "code",
   "execution_count": null,
   "metadata": {},
   "outputs": [],
   "source": [
    "radius = 8\n",
    "phis = [22.5*(i+1) for i in range(16)]\n",
    "thetas = [22.5*(j+1) for j in range(16)]\n",
    "# thetas = [90]\n",
    "pts = [[0,-9.4,0]]\n",
    "\n",
    "sensors = []\n",
    "for pt in pts:\n",
    "    for phi in phis:\n",
    "        for theta in thetas:\n",
    "            sensors.append(load_sensor(radius,theta,phi, pt))\n",
    "sensor_count = len(sensors)"
   ]
  },
  {
   "cell_type": "code",
   "execution_count": null,
   "metadata": {},
   "outputs": [],
   "source": [
    "scene_both = mi.load_file(\"Scene_Data/cbox_lego_textureless_both.xml\")\n",
    "images_both = [mi.render(scene_both, spp=1024, sensor=sensor) for sensor in sensors]\n",
    "\n"
   ]
  },
  {
   "cell_type": "code",
   "execution_count": null,
   "metadata": {},
   "outputs": [],
   "source": [
    "folder_name = current_dir+\"/Data/Lego/rad8/files_PNG\"\n",
    "if not os.path.exists(folder_name):\n",
    "    os.makedirs(folder_name)\n",
    "for i, sensor in enumerate(sensors):\n",
    "    os.chdir(folder_name)\n",
    "    phi_value = phis[i % len(phis)]\n",
    "    theta_value = thetas[i // len(phis)]\n",
    "    file_name_png = f\"{phi_value}_{theta_value}_8.png\"\n",
    "    file_path_png = os.path.join(folder_name, file_name_png)\n",
    "    mi.util.write_bitmap(file_path_png, images_both[i])\n",
    "    os.chdir(current_dir)\n",
    "os.chdir(current_dir)    \n"
   ]
  },
  {
   "cell_type": "code",
   "execution_count": null,
   "metadata": {},
   "outputs": [],
   "source": [
    "radius = 10\n",
    "phis = [22.5*(i+1) for i in range(16)]\n",
    "thetas = [22.5*(j+1) for j in range(16)]\n",
    "# thetas = [90]\n",
    "pts = [[0,-9.4,0]]\n",
    "\n",
    "sensors = []\n",
    "for pt in pts:\n",
    "    for phi in phis:\n",
    "        for theta in thetas:\n",
    "            sensors.append(load_sensor(radius,theta,phi, pt))\n",
    "sensor_count = len(sensors)"
   ]
  },
  {
   "cell_type": "code",
   "execution_count": null,
   "metadata": {},
   "outputs": [],
   "source": [
    "scene_both = mi.load_file(\"Scene_Data/cbox_lego_textureless_both.xml\")\n",
    "images_both = [mi.render(scene_both, spp=1024, sensor=sensor) for sensor in sensors]\n",
    "\n"
   ]
  },
  {
   "cell_type": "code",
   "execution_count": null,
   "metadata": {},
   "outputs": [],
   "source": [
    "folder_name = current_dir+\"/Data/Lego/rad8/files_PNG\"\n",
    "if not os.path.exists(folder_name):\n",
    "    os.makedirs(folder_name)\n",
    "for i, sensor in enumerate(sensors):\n",
    "    os.chdir(folder_name)\n",
    "    phi_value = phis[i % len(phis)]\n",
    "    theta_value = thetas[i // len(phis)]\n",
    "    file_name_png = f\"{phi_value}_{theta_value}_10.png\"\n",
    "    file_path_png = os.path.join(folder_name, file_name_png)\n",
    "    mi.util.write_bitmap(file_path_png, images_both[i])\n",
    "    os.chdir(current_dir)\n",
    "os.chdir(current_dir)    \n"
   ]
  },
  {
   "cell_type": "markdown",
   "metadata": {},
   "source": [
    "right image:"
   ]
  },
  {
   "cell_type": "code",
   "execution_count": null,
   "metadata": {},
   "outputs": [],
   "source": [
    "# images_right = [mi.render(scene_right, spp=1024, sensor=sensor) for sensor in sensors]"
   ]
  },
  {
   "cell_type": "code",
   "execution_count": null,
   "metadata": {},
   "outputs": [],
   "source": [
    "# fig1 = plt.figure(figsize=(10,15))\n",
    "# fig1.subplots_adjust(wspace=0, hspace=0)\n",
    "# for i in range(50):\n",
    "#     ax = fig1.add_subplot(10, 5, i + 1).imshow(images_right[i] ** (1.0 / 2.2))\n",
    "#     plt.axis(\"off\")\n",
    "# plt.show()\n",
    "\n",
    "# fig2 = plt.figure(figsize=(10,15))\n",
    "# fig2.subplots_adjust(wspace=0, hspace=0)\n",
    "# for i in range(50, 100):\n",
    "#     ax = fig2.add_subplot(10, 5, i + 1 - 50).imshow(images_right[i] ** (1.0 / 2.2))\n",
    "#     plt.axis(\"off\")\n",
    "# plt.show()"
   ]
  },
  {
   "cell_type": "code",
   "execution_count": null,
   "metadata": {},
   "outputs": [],
   "source": [
    "# folder_name = current_dir+\"/Data/right/files_EXR\"\n",
    "# if not os.path.exists(folder_name):\n",
    "#     os.makedirs(folder_name)\n",
    "# for i, sensor in enumerate(sensors):\n",
    "#     os.chdir(folder_name)\n",
    "#     phi_value = phis[i // len(thetas)]\n",
    "#     theta_value = thetas[i % len(thetas)]\n",
    "#     file_name_exr = f\"{phi_value}_{theta_value}.exr\"\n",
    "#     file_path_exr = os.path.join(folder_name, file_name_exr)\n",
    "#     mi.Bitmap(images_right[i]).write(file_name_exr)\n",
    "#     # print(i,file_name_exr, file_path_exr)\n",
    "# os.chdir(current_dir)    \n"
   ]
  },
  {
   "cell_type": "code",
   "execution_count": null,
   "metadata": {},
   "outputs": [],
   "source": [
    "# folder_name = current_dir+\"/Data/Manual_cart/right/files_PNG\"\n",
    "# if not os.path.exists(folder_name):\n",
    "#     os.makedirs(folder_name)\n",
    "# for i, sensor in enumerate(sensors):\n",
    "#     os.chdir(folder_name)\n",
    "#     lookat_y = lookat_ys[i // (len(xs) * len(zs) * len(ys))]\n",
    "#     x = xs[(i // len(zs)) % len(xs)]\n",
    "#     y = ys[(i // len(zs)) % len(ys)]\n",
    "#     z = zs[i % len(zs)]\n",
    "#     file_name_png = f\"{lookat_y}_{x}_{y}_{z}.png\"\n",
    "#     file_path_png = os.path.join(folder_name, file_name_png)\n",
    "#     mi.util.write_bitmap(file_path_png, images_right[i])\n",
    "# os.chdir(current_dir)    \n"
   ]
  },
  {
   "cell_type": "code",
   "execution_count": null,
   "metadata": {},
   "outputs": [],
   "source": [
    "# images_left = [mi.render(scene_left, spp=1024, sensor=sensor) for sensor in sensors]\n"
   ]
  },
  {
   "cell_type": "code",
   "execution_count": null,
   "metadata": {},
   "outputs": [],
   "source": [
    "# fig1 = plt.figure(figsize=(10,15))\n",
    "# fig1.subplots_adjust(wspace=0, hspace=0)\n",
    "# for i in range(50):\n",
    "#     ax = fig1.add_subplot(10, 5, i + 1).imshow(images_left[i] ** (1.0 / 2.2))\n",
    "#     plt.axis(\"off\")\n",
    "# plt.show()\n",
    "\n",
    "# fig2 = plt.figure(figsize=(10,15))\n",
    "# fig2.subplots_adjust(wspace=0, hspace=0)\n",
    "# for i in range(50, 100):\n",
    "#     ax = fig2.add_subplot(10, 5, i + 1 - 50).imshow(images_left[i] ** (1.0 / 2.2))\n",
    "#     plt.axis(\"off\")\n",
    "# plt.show()"
   ]
  },
  {
   "cell_type": "code",
   "execution_count": null,
   "metadata": {},
   "outputs": [],
   "source": [
    "# folder_name = current_dir+\"/Data/Manual_cart/left/files_EXR\"\n",
    "# if not os.path.exists(folder_name):\n",
    "#     os.makedirs(folder_name)\n",
    "# for i, sensor in enumerate(sensors):\n",
    "#     os.chdir(folder_name)\n",
    "#     phi_value = phis[i // len(thetas)]\n",
    "#     theta_value = thetas[i % len(thetas)]\n",
    "#     file_name_exr = f\"{phi_value}_{theta_value}.exr\"\n",
    "#     file_path_exr = os.path.join(folder_name, file_name_exr)\n",
    "#     mi.Bitmap(images_left[i]).write(file_name_exr)\n",
    "#     # print(i,file_name_exr, file_path_exr)\n",
    "# os.chdir(current_dir)    \n"
   ]
  },
  {
   "cell_type": "code",
   "execution_count": null,
   "metadata": {},
   "outputs": [],
   "source": [
    "# folder_name = current_dir+\"/Data/left/files_PNG\"\n",
    "# if not os.path.exists(folder_name):\n",
    "#     os.makedirs(folder_name)\n",
    "# for i, sensor in enumerate(sensors):\n",
    "#     os.chdir(folder_name)\n",
    "#     lookat_y = lookat_ys[i // (len(xs) * len(zs) * len(ys))]\n",
    "#     x = xs[(i // len(zs)) % len(xs)]\n",
    "#     y = ys[(i // len(zs)) % len(ys)]\n",
    "#     z = zs[i % len(zs)]\n",
    "#     file_name_png = f\"{lookat_y}_{x}_{y}_{z}.png\"\n",
    "#     file_path_png = os.path.join(folder_name, file_name_png)\n",
    "#     mi.util.write_bitmap(file_path_png, images_left[i])\n",
    "# os.chdir(current_dir)    \n"
   ]
  }
 ],
 "metadata": {
  "kernelspec": {
   "display_name": "base",
   "language": "python",
   "name": "python3"
  },
  "language_info": {
   "codemirror_mode": {
    "name": "ipython",
    "version": 3
   },
   "file_extension": ".py",
   "mimetype": "text/x-python",
   "name": "python",
   "nbconvert_exporter": "python",
   "pygments_lexer": "ipython3",
   "version": "3.12.2"
  }
 },
 "nbformat": 4,
 "nbformat_minor": 2
}
